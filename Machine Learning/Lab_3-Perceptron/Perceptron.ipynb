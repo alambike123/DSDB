{
 "cells": [
  {
   "cell_type": "raw",
   "metadata": {},
   "source": [
    "PEDRO MARTINS MOREIRA NETO - pedromartins.cwb@gmail.com\\\\"
   ]
  },
  {
   "cell_type": "markdown",
   "metadata": {},
   "source": [
    "**Execute o script percepton.py e compare os resultados com os classificadores utilizados no laboratório passado.**"
   ]
  },
  {
   "cell_type": "raw",
   "metadata": {},
   "source": [
    "\\begin{enumerate}\n",
    "  \\item Quantas iterações são necessárias para que o perceptron encontre a melhor acurácia?\n",
    "  \\item Qual é o tamanho da base de treinamento para que perceptron alcançe a melhor acurácia?\n",
    "\\end{enumerate}"
   ]
  },
  {
   "cell_type": "code",
   "execution_count": 72,
   "metadata": {},
   "outputs": [],
   "source": [
    "import sys\n",
    "import numpy as np\n",
    "import time\n",
    "import matplotlib.pyplot as plt\n",
    "\n",
    "from sklearn.metrics import confusion_matrix, accuracy_score\n",
    "from sklearn.datasets import load_svmlight_file\n",
    "from sklearn.linear_model import Perceptron\n",
    "from sklearn.model_selection import GridSearchCV"
   ]
  },
  {
   "cell_type": "markdown",
   "metadata": {},
   "source": [
    "Carrega os dados e transforma em arrays "
   ]
  },
  {
   "cell_type": "code",
   "execution_count": 61,
   "metadata": {},
   "outputs": [
    {
     "name": "stdout",
     "output_type": "stream",
     "text": [
      "Loading data...\n",
      "Data loaded: Train size=(20000, 132) and Test size = (58646, 132)\n"
     ]
    }
   ],
   "source": [
    "print (\"Loading data...\")\n",
    "\n",
    "X_train, y_train = load_svmlight_file('../shared_data/train.txt')\n",
    "X_test, y_test = load_svmlight_file('../shared_data/test.txt')\n",
    "size = X_train.shape\n",
    "\n",
    "X_train_dense = X_train.toarray()\n",
    "X_test_dense = X_test.toarray()\n",
    "\n",
    "print(\"Data loaded: Train size={} \\\n",
    "          and Test size = {}\".format(X_train.shape, X_test.shape))"
   ]
  },
  {
   "cell_type": "raw",
   "metadata": {},
   "source": []
  },
  {
   "cell_type": "code",
   "execution_count": 152,
   "metadata": {},
   "outputs": [
    {
     "name": "stdout",
     "output_type": "stream",
     "text": [
      "Fitting... \n",
      "\n",
      "Best model params: {'max_iter': 47}, accuracy score: 0.9485727926883334 \n",
      "\n",
      "[[5137    1    7    9   22    3   22   19  338    2]\n",
      " [   1 6236   35   58   57  101   12  112   33   10]\n",
      " [   3   51 5618   26    6    0    8  123   51    2]\n",
      " [   1   12   40 5442    8  100    0  151   21   44]\n",
      " [   7    2   22    0 5517    1   38   12   15  108]\n",
      " [   4    9    3   51    6 5363   20    3   28   52]\n",
      " [  52   14    9    0   63   58 5602    0   60    0]\n",
      " [   0   16   53   13   66    1    0 5924    4   20]\n",
      " [  13   13   15   29   65   88   24   25 5311  112]\n",
      " [  17    5    7   33  163    7    1   53   47 5480]]\n",
      "\n",
      " --- 112.89231705665588 seconds ---\n"
     ]
    }
   ],
   "source": [
    "print('Fitting... \\n')\n",
    "tic = time.time()\n",
    "\n",
    "parameters = {\n",
    "    'max_iter': range(5, 56, 1)\n",
    "}\n",
    "\n",
    "scores = []\n",
    "# Executa um grid search para maximizar a acurácia através da busca dos parametros do classificador\n",
    "perceptron = Perceptron()\n",
    "clf = GridSearchCV(perceptron, parameters, return_train_score=True,\n",
    "                   n_jobs=4, scoring='accuracy')\n",
    "\n",
    "clf.fit(X_train_dense, y_train)\n",
    "\n",
    "y_pred = clf.predict(X_test_dense)\n",
    "\n",
    "# mostra o resultado do classificador na base de teste\n",
    "print(\"Best model params: {}, accuracy score: {} \\n\".format(\n",
    "        clf.best_params_, accuracy_score(y_test, y_pred)))\n",
    "\n",
    "# cria a matriz de confusao\n",
    "cm = confusion_matrix(y_test, y_pred)\n",
    "print(cm)\n",
    "\n",
    "toc = time.time()\n",
    "print(\"\\n --- %s seconds ---\" % ( toc - tic))"
   ]
  },
  {
   "cell_type": "markdown",
   "metadata": {},
   "source": [
    "**1. Quantas iterações são necessárias para que o perceptron encontre a melhor acurácia?**\n",
    "\n",
    "O modelo Perceptron encontrou a melhor acurácia com 47 iterações, sendo que o resultado na base de testes foi de 0.9485 de acurácia. "
   ]
  },
  {
   "cell_type": "markdown",
   "metadata": {},
   "source": [
    "____"
   ]
  },
  {
   "cell_type": "markdown",
   "metadata": {},
   "source": [
    "**Qual é o tamanho da base de treinamento para que perceptron alcançe a melhor acurácia?**\n"
   ]
  },
  {
   "cell_type": "code",
   "execution_count": 153,
   "metadata": {},
   "outputs": [
    {
     "name": "stdout",
     "output_type": "stream",
     "text": [
      "[100, 200, 300, 400, 500, 600, 700, 800, 900, 1000, 1000, 2000, 3000, 4000, 5000, 6000, 7000, 8000, 9000, 10000, 11000, 12000, 13000, 14000, 15000, 16000, 17000, 18000, 19000, 20000]\n"
     ]
    }
   ],
   "source": [
    "# criar os batchs da base \n",
    "batchs = list(range(100, 1001, 100)) + list(range(1000, size[0] + 1, 1000))\n",
    "print(batchs)"
   ]
  },
  {
   "cell_type": "code",
   "execution_count": 156,
   "metadata": {},
   "outputs": [],
   "source": [
    "scores = []\n",
    "for edge in batchs:\n",
    "    #treina o estimador com os melhores parametros encontrados acima\n",
    "    perceptron = Perceptron(**clf.best_params_)\n",
    "    perceptron.fit(X_train_dense[:edge], y_train[:edge])\n",
    "    scores.append(perceptron.score(X_test_dense, y_test))\n"
   ]
  },
  {
   "cell_type": "code",
   "execution_count": 195,
   "metadata": {},
   "outputs": [
    {
     "name": "stdout",
     "output_type": "stream",
     "text": [
      "Tamanho da base de treinamento que resultou na melhor acurácia: 18000\n"
     ]
    },
    {
     "data": {
      "image/png": "[encoded data removed]",
      "text/plain": [
       "<Figure size 432x288 with 1 Axes>"
      ]
     },
     "metadata": {},
     "output_type": "display_data"
    }
   ],
   "source": [
    "plt.title(\"Accuracy vs Train Size\")\n",
    "plt.plot(batchs, scores)\n",
    "plt.vlines(batchs[scores.index(max(scores))], min(scores), 1.0)\n",
    "\n",
    "print(\"Tamanho da base de treinamento que resultou na melhor acurácia:\", \n",
    "          batchs[scores.index(max(scores))])"
   ]
  },
  {
   "cell_type": "markdown",
   "metadata": {},
   "source": [
    "Podemos notar que com a base a partir do tamanho 7000 não observamos diferença significativa no valor da acurácia, isso se comprova pelo desvio padrão dos resultados deste intervalo que é de 0.008 como vemos abaixo. Sendo assim, por se tratar de um problema que não é sensível é preferivel utilizar base de menor tamanho para priorizar a performance do modelo. "
   ]
  },
  {
   "cell_type": "code",
   "execution_count": 186,
   "metadata": {},
   "outputs": [
    {
     "data": {
      "text/plain": [
       "0.008025571020236722"
      ]
     },
     "execution_count": 186,
     "metadata": {},
     "output_type": "execute_result"
    }
   ],
   "source": [
    "np.std(scores[batchs.index(7000):])"
   ]
  },
  {
   "cell_type": "markdown",
   "metadata": {},
   "source": [
    "---"
   ]
  },
  {
   "cell_type": "code",
   "execution_count": null,
   "metadata": {},
   "outputs": [],
   "source": []
  }
 ],
 "metadata": {
  "kernelspec": {
   "display_name": "Python 3",
   "language": "python",
   "name": "python3"
  },
  "language_info": {
   "codemirror_mode": {
    "name": "ipython",
    "version": 3
   },
   "file_extension": ".py",
   "mimetype": "text/x-python",
   "name": "python",
   "nbconvert_exporter": "python",
   "pygments_lexer": "ipython3",
   "version": "3.6.5"
  }
 },
 "nbformat": 4,
 "nbformat_minor": 2
}
