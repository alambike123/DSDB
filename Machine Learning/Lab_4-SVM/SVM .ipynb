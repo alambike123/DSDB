{
 "cells": [
  {
   "cell_type": "markdown",
   "metadata": {},
   "source": [
    "PEDRO MARTINS MOREIRA NETO - pedromartins.cwb@gmail.com"
   ]
  },
  {
   "cell_type": "markdown",
   "metadata": {},
   "source": [
    "## SVM Toy\n",
    "O programa svmtoy.py utiliza duas funções diferentes para gerar dados de treinamento. A função make_blobs gera dados que, em algumas vezes, são linearmente separáveis. Já a função make_gaussian_quantiles gera dados que não são separáveis linearmente."
   ]
  },
  {
   "cell_type": "code",
   "execution_count": 1,
   "metadata": {},
   "outputs": [],
   "source": [
    "import pandas as pd\n",
    "\n",
    "#resultados obtidos na execução do algoritmo svmtoy. O algoritmo foi executado 10x \n",
    "#criando uma nova distribuição com o make_blobs a cada round\n",
    "\n",
    "mk_blobs = pd.DataFrame([\n",
    "    ['linear',0,1.0,2],\n",
    "    ['linear',1,1.0,3],\n",
    "    ['linear',2,1.0,2],\n",
    "    ['linear',3,1.0,3],\n",
    "    ['linear',4,1.0,3],\n",
    "    ['linear',5,0.9666666666666667,13],\n",
    "    ['linear',6,1.0,3],\n",
    "    ['linear',7,1.0,3],\n",
    "    ['linear',8,0.9888888888888889,2],\n",
    "    ['linear',9,1.0,2],\n",
    "    ['rbf',0,0.9888888888888889,31],\n",
    "    ['rbf',1,1.0,33],\n",
    "    ['rbf',2,1.0,38],\n",
    "    ['rbf',3,1.0,30],\n",
    "    ['rbf',4,1.0,36],\n",
    "    ['rbf',5,0.8555555555555555,93],\n",
    "    ['rbf',6,1.0,36],\n",
    "    ['rbf',7,1.0,38],\n",
    "    ['rbf',8,1.0,38],\n",
    "    ['rbf',9,1.0,39]\n",
    "], columns = ['kernel', 'round', 'score', 'vetores'])"
   ]
  },
  {
   "cell_type": "markdown",
   "metadata": {},
   "source": [
    " **Utilizando a função make_blobs compare os SVMs linear e RBF. **\n",
    "\n",
    "    1. Qual classificador produz mais vetores de suporte? \n",
    "       R: RBF produz mais vetores\n",
    "   \n",
    "    2. Em geral qual classificador alcança a mehor acurácia? \n",
    "       R: Nesse experimento o kernel Linear obteve melhor acurácia\n",
    "    \n",
    "    3. Qual é a quantidade média de vetores de suporte para em cada caso?\n",
    "       R: 41.2 para RBF e 3.6 para o linear"
   ]
  },
  {
   "cell_type": "code",
   "execution_count": 2,
   "metadata": {},
   "outputs": [
    {
     "data": {
      "text/html": [
       "<div>\n",
       "<style scoped>\n",
       "    .dataframe tbody tr th:only-of-type {\n",
       "        vertical-align: middle;\n",
       "    }\n",
       "\n",
       "    .dataframe tbody tr th {\n",
       "        vertical-align: top;\n",
       "    }\n",
       "\n",
       "    .dataframe thead th {\n",
       "        text-align: right;\n",
       "    }\n",
       "</style>\n",
       "<table border=\"1\" class=\"dataframe\">\n",
       "  <thead>\n",
       "    <tr style=\"text-align: right;\">\n",
       "      <th></th>\n",
       "      <th>vetores</th>\n",
       "      <th>score</th>\n",
       "    </tr>\n",
       "    <tr>\n",
       "      <th>kernel</th>\n",
       "      <th></th>\n",
       "      <th></th>\n",
       "    </tr>\n",
       "  </thead>\n",
       "  <tbody>\n",
       "    <tr>\n",
       "      <th>linear</th>\n",
       "      <td>3.6</td>\n",
       "      <td>0.995556</td>\n",
       "    </tr>\n",
       "    <tr>\n",
       "      <th>rbf</th>\n",
       "      <td>41.2</td>\n",
       "      <td>0.984444</td>\n",
       "    </tr>\n",
       "  </tbody>\n",
       "</table>\n",
       "</div>"
      ],
      "text/plain": [
       "        vetores     score\n",
       "kernel                   \n",
       "linear      3.6  0.995556\n",
       "rbf        41.2  0.984444"
      ]
     },
     "execution_count": 2,
     "metadata": {},
     "output_type": "execute_result"
    }
   ],
   "source": [
    "pd.DataFrame(mk_blobs.groupby(['kernel'])['vetores', 'score'].mean())"
   ]
  },
  {
   "cell_type": "markdown",
   "metadata": {},
   "source": [
    "**Responda as mesmas perguntas utilizando a função make_gaussian_quantiles.**"
   ]
  },
  {
   "cell_type": "code",
   "execution_count": 3,
   "metadata": {},
   "outputs": [],
   "source": [
    "#resultados obtidos na execução do algoritmo svmtoy. O algoritmo foi executado 10x \n",
    "#criando uma nova distribuição com o make_blobs a cada round\n",
    "\n",
    "mk_gaussian = pd.DataFrame([\n",
    "    ['linear',0,0.5777777777777777,198],\n",
    "    ['linear',1,0.6888888888888889,207],\n",
    "    ['linear',2,0.5444444444444444,206],\n",
    "    ['linear',3,0.6111111111111112,204],\n",
    "    ['linear',4,0.5666666666666667,199],\n",
    "    ['linear',5,0.6333333333333333,202],\n",
    "    ['linear',6,0.6444444444444445,205],\n",
    "    ['linear',7,0.5888888888888889,187],\n",
    "    ['linear',8,0.45555555555555555,204],\n",
    "    ['linear',9,0.6111111111111112,203],\n",
    "    ['rbf',0,0.9333333333333333,66],\n",
    "    ['rbf',1,0.9888888888888889,69],\n",
    "    ['rbf',2,0.9222222222222223,62],\n",
    "    ['rbf',3,0.9222222222222223,61],\n",
    "    ['rbf',4,0.9444444444444444,71],\n",
    "    ['rbf',5,0.9777777777777777,69],\n",
    "    ['rbf',6,0.9666666666666667,67],\n",
    "    ['rbf',7,0.9555555555555556,66],\n",
    "    ['rbf',8,0.9777777777777777,64],\n",
    "    ['rbf',9,0.9888888888888889,76]\n",
    "],  columns = ['kernel', 'round', 'score', 'vetores'])"
   ]
  },
  {
   "cell_type": "markdown",
   "metadata": {},
   "source": [
    "    1. Qual classificador produz mais vetores de suporte? \n",
    "       R: LINEAR produz mais vetores\n",
    "   \n",
    "    2. Em geral qual classificador alcança a mehor acurácia? \n",
    "       R: Nesse experimento o kernel RBF obteve melhor acurácia\n",
    "    \n",
    "    3. Qual é a quantidade média de vetores de suporte para em cada caso?\n",
    "       R: 67.1 para RBF e 201.5 para o linear"
   ]
  },
  {
   "cell_type": "code",
   "execution_count": 4,
   "metadata": {},
   "outputs": [
    {
     "data": {
      "text/html": [
       "<div>\n",
       "<style scoped>\n",
       "    .dataframe tbody tr th:only-of-type {\n",
       "        vertical-align: middle;\n",
       "    }\n",
       "\n",
       "    .dataframe tbody tr th {\n",
       "        vertical-align: top;\n",
       "    }\n",
       "\n",
       "    .dataframe thead th {\n",
       "        text-align: right;\n",
       "    }\n",
       "</style>\n",
       "<table border=\"1\" class=\"dataframe\">\n",
       "  <thead>\n",
       "    <tr style=\"text-align: right;\">\n",
       "      <th></th>\n",
       "      <th>vetores</th>\n",
       "      <th>score</th>\n",
       "    </tr>\n",
       "    <tr>\n",
       "      <th>kernel</th>\n",
       "      <th></th>\n",
       "      <th></th>\n",
       "    </tr>\n",
       "  </thead>\n",
       "  <tbody>\n",
       "    <tr>\n",
       "      <th>linear</th>\n",
       "      <td>201.5</td>\n",
       "      <td>0.592222</td>\n",
       "    </tr>\n",
       "    <tr>\n",
       "      <th>rbf</th>\n",
       "      <td>67.1</td>\n",
       "      <td>0.957778</td>\n",
       "    </tr>\n",
       "  </tbody>\n",
       "</table>\n",
       "</div>"
      ],
      "text/plain": [
       "        vetores     score\n",
       "kernel                   \n",
       "linear    201.5  0.592222\n",
       "rbf        67.1  0.957778"
      ]
     },
     "execution_count": 4,
     "metadata": {},
     "output_type": "execute_result"
    }
   ],
   "source": [
    "pd.DataFrame(mk_gaussian.groupby(['kernel'])['vetores', 'score'].mean())"
   ]
  },
  {
   "cell_type": "markdown",
   "metadata": {},
   "source": [
    "### Discussão"
   ]
  },
  {
   "cell_type": "markdown",
   "metadata": {},
   "source": [
    "Os dados gerados pela função make_blobs pode acontecer de serem linearmente separáveis, o que da um certo conforto \n",
    "para o kernel linear classificar os dados. Quando os dados fogem a esse padrão, como é o caso dos dados gerados com gaussian quantiles, o kernel linear não é suficiente para caracterizar os dados, sendo necessário uma abordagem mais sofisticada como o RBF. \n",
    "______\n",
    "\n",
    "# SVM"
   ]
  },
  {
   "cell_type": "markdown",
   "metadata": {},
   "source": [
    "Utilize o programa svm.py para classificar a base de digitos utilizada nos exercícos anteriores. Note que esse programa utiliza validação cruzada para buscar os parâmetros C e Gamma no caso do kernel RBF, os quais tem o escopo definido nas variáveis C_range e gamma_range.\n",
    "\n",
    "1) Compare o desempenho do SVM linear e RBF com os classificadores utilizados anteriormente. Para esse problemas em particular, qual SVM é melhor em termos de acurácia e tempo de treinamento?\n",
    "\n",
    "2) Qual foi a quantidade de vetores de suporte para cada SVM?"
   ]
  },
  {
   "cell_type": "code",
   "execution_count": 64,
   "metadata": {},
   "outputs": [],
   "source": [
    "import time\n",
    "import numpy\n",
    "import numpy as np\n",
    "import seaborn as sns\n",
    "from sklearn import svm\n",
    "from sklearn import preprocessing\n",
    "from sklearn.metrics import confusion_matrix\n",
    "from sklearn.model_selection import GridSearchCV\n",
    "from sklearn.datasets import load_svmlight_file"
   ]
  },
  {
   "cell_type": "code",
   "execution_count": 6,
   "metadata": {},
   "outputs": [],
   "source": [
    "# Carrega os dados\n",
    "X_train, y_train = load_svmlight_file('../shared_data/train.txt')\n",
    "X_test, y_test = load_svmlight_file('../shared_data/test.txt')"
   ]
  },
  {
   "cell_type": "code",
   "execution_count": 8,
   "metadata": {},
   "outputs": [],
   "source": [
    "def GridSearch(X_train, y_train, k):\n",
    "    \n",
    "    # In order to make it run faster we subset the dataset \n",
    "    subset = 10000\n",
    "    \n",
    "    X_train_dense = X_train.toarray()\n",
    "    X_train_dense = X_train_dense[:subset]\n",
    "    y_train = y_train[:subset]\n",
    "    \n",
    "    # define range dos parametros\n",
    "    C_range = 2. ** numpy.arange(-5,15,2)\n",
    "    gamma_range = 2. ** numpy.arange(3,-15,-2)\n",
    "    \n",
    "    param_grid = dict(gamma=gamma_range, C=C_range, kernel=k)\n",
    "\n",
    "    # instancia o classificador, gerando probabilidades\n",
    "    srv = svm.SVC(probability=True)\n",
    "\n",
    "    # faz a busca\n",
    "    grid = GridSearchCV(srv, param_grid, n_jobs=4, verbose=True)\n",
    "    grid.fit (X_train_dense, y_train)\n",
    "\n",
    "    # recupera o melhor modelo\n",
    "    model = grid.best_estimator_\n",
    "\n",
    "    # imprime os parametros desse modelo\n",
    "    print(grid.best_params_)\n",
    "    return model"
   ]
  },
  {
   "cell_type": "code",
   "execution_count": 9,
   "metadata": {},
   "outputs": [
    {
     "name": "stdout",
     "output_type": "stream",
     "text": [
      "Fitting 3 folds for each of 90 candidates, totalling 270 fits\n"
     ]
    },
    {
     "name": "stderr",
     "output_type": "stream",
     "text": [
      "/home/pedro.martins/anaconda3/lib/python3.7/site-packages/sklearn/model_selection/_split.py:1943: FutureWarning: You should specify a value for 'cv' instead of relying on the default value. The default value will change from 3 to 5 in version 0.22.\n",
      "  warnings.warn(CV_WARNING, FutureWarning)\n",
      "[Parallel(n_jobs=4)]: Using backend LokyBackend with 4 concurrent workers.\n",
      "[Parallel(n_jobs=4)]: Done  42 tasks      | elapsed: 14.4min\n",
      "[Parallel(n_jobs=4)]: Done 192 tasks      | elapsed: 24.5min\n",
      "[Parallel(n_jobs=4)]: Done 270 out of 270 | elapsed: 26.4min finished\n"
     ]
    },
    {
     "name": "stdout",
     "output_type": "stream",
     "text": [
      "{'C': 32.0, 'gamma': 8.0, 'kernel': 'linear'}\n",
      "Fitting 3 folds for each of 90 candidates, totalling 270 fits\n"
     ]
    },
    {
     "name": "stderr",
     "output_type": "stream",
     "text": [
      "/home/pedro.martins/anaconda3/lib/python3.7/site-packages/sklearn/model_selection/_split.py:1943: FutureWarning: You should specify a value for 'cv' instead of relying on the default value. The default value will change from 3 to 5 in version 0.22.\n",
      "  warnings.warn(CV_WARNING, FutureWarning)\n",
      "[Parallel(n_jobs=4)]: Using backend LokyBackend with 4 concurrent workers.\n",
      "[Parallel(n_jobs=4)]: Done  42 tasks      | elapsed: 18.9min\n",
      "[Parallel(n_jobs=4)]: Done 192 tasks      | elapsed: 57.5min\n",
      "[Parallel(n_jobs=4)]: Done 270 out of 270 | elapsed: 62.6min finished\n"
     ]
    },
    {
     "name": "stdout",
     "output_type": "stream",
     "text": [
      "{'C': 32.0, 'gamma': 0.5, 'kernel': 'rbf'}\n"
     ]
    }
   ],
   "source": [
    "modelos = {}\n",
    "for kernel in ['linear', 'rbf']:\n",
    "    # GridSearch retorna o melhor modelo encontrado na busca\n",
    "    best = GridSearch(X_train, y_train, [kernel])   \n",
    "    modelos[kernel] = best\n"
   ]
  },
  {
   "cell_type": "markdown",
   "metadata": {},
   "source": [
    "Através do GridSearch obtemos os melhores parâmetros do svc para o kernel linear e RBF:\n",
    "\n",
    "    Linear: {'C': 32.0, 'gamma': 8.0, 'kernel': 'linear'}\n",
    "    rbf: {'C': 32.0, 'gamma': 0.5, 'kernel': 'rbf'}\n",
    "\n",
    "O tempo de busca pelos parâmetros foi de 26 minutos para o kernel linear e 62 minutos para o RBF"
   ]
  },
  {
   "cell_type": "code",
   "execution_count": 16,
   "metadata": {},
   "outputs": [],
   "source": [
    "params = [{'C': 32.0, 'gamma': 8.0, 'kernel': 'linear'}, \n",
    "          {'C': 32.0, 'gamma': 0.5, 'kernel': 'rbf'}]"
   ]
  },
  {
   "cell_type": "markdown",
   "metadata": {},
   "source": [
    "    Para esse problemas em particular, qual SVM é melhor em termos de acurácia e tempo de treinamento?\n",
    "        Acurácia: RBF\n",
    "        Tempo: RBF\n",
    "    \n",
    "    Qual foi a quantidade de vetores de suporte para cada SVM?\n",
    "        Linear: 353\n",
    "        RBF: 326\n",
    "    "
   ]
  },
  {
   "cell_type": "code",
   "execution_count": 27,
   "metadata": {},
   "outputs": [
    {
     "name": "stdout",
     "output_type": "stream",
     "text": [
      "\n",
      "kernel:  linear\n",
      "Tempo de treinamento 5.648\n",
      "Accurácia: 0.956\n",
      "Quantidade de vetores de suporte 353\n",
      "\n",
      "kernel:  rbf\n",
      "Tempo de treinamento 5.588\n",
      "Accurácia: 0.963\n",
      "Quantidade de vetores de suporte 326\n"
     ]
    }
   ],
   "source": [
    "#Treinamento com a base full\n",
    "for param in params:\n",
    "    tic = time.time()\n",
    "    model = svm.SVC(**param)\n",
    "    model.fit(X_train, y_train)\n",
    "    print('\\nkernel: ', param['kernel'])\n",
    "    print('Tempo de treinamento {0:.3f}'.format(time.time() - tic))\n",
    "    print('Accurácia: {0:.3f}'.format(model.score(X_test, y_test)))\n",
    "    print('Quantidade de vetores de suporte {}'.format(model.n_support_[0]+model.n_support_[1]))\n",
    "\n"
   ]
  },
  {
   "cell_type": "markdown",
   "metadata": {},
   "source": [
    "**Compare o desempenho do SVM linear e RBF com os classificadores utilizados anteriormente**"
   ]
  },
  {
   "cell_type": "code",
   "execution_count": 79,
   "metadata": {},
   "outputs": [],
   "source": [
    "#carrega os dados do lab anterior\n",
    "df = pd.read_csv('../Lab_2-Dataset_Length/results.csv')\n",
    "df = df[df['batch'] == 20000]\n",
    "df = df.drop(['Unnamed: 0', 'confusion_matrix'], axis=1)"
   ]
  },
  {
   "cell_type": "code",
   "execution_count": 80,
   "metadata": {},
   "outputs": [],
   "source": [
    "df = df.append(\n",
    "        [{\"Classifiers\": \"SVM Linear\", \"batch\": 20000, \"score\":0.956, \"time\": 5.648},\n",
    "         {\"Classifiers\": \"SVM rbf\", \"batch\": 20000, \"score\":0.963, \"time\":5.588}]\n",
    "    ).reset_index()"
   ]
  },
  {
   "cell_type": "code",
   "execution_count": 81,
   "metadata": {},
   "outputs": [],
   "source": [
    "df['log_time'] = np.log(df['time'])"
   ]
  },
  {
   "cell_type": "markdown",
   "metadata": {},
   "source": [
    "    Os classificadores SVM Linear e RBF possuem tempo similires entre si, contudo ele é mais lento quando comparado com o naive bayes, logistic regression e LDA. Eles são melhores apenas que o KNN, o que ja era esperado"
   ]
  },
  {
   "cell_type": "code",
   "execution_count": 82,
   "metadata": {},
   "outputs": [
    {
     "data": {
      "text/plain": [
       "<matplotlib.axes._subplots.AxesSubplot at 0x7f60ea0be8d0>"
      ]
     },
     "execution_count": 82,
     "metadata": {},
     "output_type": "execute_result"
    },
    {
     "data": {
      "image/png": "[encoded data removed]",
      "text/plain": [
       "<Figure size 432x288 with 1 Axes>"
      ]
     },
     "metadata": {
      "needs_background": "light"
     },
     "output_type": "display_data"
    }
   ],
   "source": [
    "df.plot(kind='barh', x='Classifiers', y='log_time')"
   ]
  },
  {
   "cell_type": "markdown",
   "metadata": {},
   "source": [
    "    Em termos de score, os classificadores deste lab não apresentaram melhora significativa estando dentro da média dos demais classificadores."
   ]
  },
  {
   "cell_type": "code",
   "execution_count": 76,
   "metadata": {},
   "outputs": [
    {
     "data": {
      "text/plain": [
       "<matplotlib.axes._subplots.AxesSubplot at 0x7f60ea0d7668>"
      ]
     },
     "execution_count": 76,
     "metadata": {},
     "output_type": "execute_result"
    },
    {
     "data": {
      "image/png": "[encoded data removed]",
      "text/plain": [
       "<Figure size 432x288 with 1 Axes>"
      ]
     },
     "metadata": {
      "needs_background": "light"
     },
     "output_type": "display_data"
    }
   ],
   "source": [
    "df.plot(kind='bar', x='Classifiers', y='score', )"
   ]
  },
  {
   "cell_type": "code",
   "execution_count": null,
   "metadata": {},
   "outputs": [],
   "source": []
  }
 ],
 "metadata": {
  "kernelspec": {
   "display_name": "Python 3",
   "language": "python",
   "name": "python3"
  },
  "language_info": {
   "codemirror_mode": {
    "name": "ipython",
    "version": 3
   },
   "file_extension": ".py",
   "mimetype": "text/x-python",
   "name": "python",
   "nbconvert_exporter": "python",
   "pygments_lexer": "ipython3",
   "version": "3.7.0"
  }
 },
 "nbformat": 4,
 "nbformat_minor": 2
}
