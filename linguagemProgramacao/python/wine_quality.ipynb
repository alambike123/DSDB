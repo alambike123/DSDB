{
 "cells": [
  {
   "cell_type": "markdown",
   "metadata": {},
   "source": [
    "### Wine quality exercise\n",
    "##### Pedro Martins \n",
    "\n",
    "Download the files winequality-white.csv and winequality-red.csv from the following source\n",
    "\n",
    "* https://archive.ics.uci.edu/ml/machine-learning-databases/wine-quality/winequality-white.csv\n",
    "* https://archive.ics.uci.edu/ml/machine-learning-databases/wine-quality/winequality-red.csv\n",
    "\n",
    "**Given both files write a program that:**\n",
    "    - Open and read the files\n",
    "    - Change the delimiter from \";\" (semicolon) to \",\" (colon)\n",
    "    - Add a label to indentify the attributes of red and white wines    \n",
    "    - Create a file with both datasets merged\n",
    "    \n",
    "    - Remember: There should be only one header\n",
    "   \n",
    "**Stats:**\n",
    "    - Calculate the average quality of each wine\n",
    "    \n",
    "    \n"
   ]
  },
  {
   "cell_type": "markdown",
   "metadata": {},
   "source": [
    "#### Download files"
   ]
  },
  {
   "cell_type": "code",
   "execution_count": 2,
   "metadata": {
    "collapsed": false
   },
   "outputs": [
    {
     "name": "stdout",
     "output_type": "stream",
     "text": [
      "--2018-06-09 11:23:20--  https://archive.ics.uci.edu/ml/machine-learning-databases/wine-quality/winequality-white.csv\n",
      "Resolving archive.ics.uci.edu... 128.195.10.249\n",
      "Connecting to archive.ics.uci.edu|128.195.10.249|:443... connected.\n",
      "HTTP request sent, awaiting response... 200 OK\n",
      "Length: 264426 (258K) [text/csv]\n",
      "Saving to: ‘winequality-white.csv’\n",
      "\n",
      "winequality-white.c 100%[===================>] 258.23K   228KB/s    in 1.1s    \n",
      "\n",
      "2018-06-09 11:23:22 (228 KB/s) - ‘winequality-white.csv’ saved [264426/264426]\n",
      "\n",
      "--2018-06-09 11:23:22--  https://archive.ics.uci.edu/ml/machine-learning-databases/wine-quality/winequality-red.csv\n",
      "Resolving archive.ics.uci.edu... 128.195.10.249\n",
      "Connecting to archive.ics.uci.edu|128.195.10.249|:443... connected.\n",
      "HTTP request sent, awaiting response... 200 OK\n",
      "Length: 84199 (82K) [text/csv]\n",
      "Saving to: ‘winequality-red.csv’\n",
      "\n",
      "winequality-red.csv 100%[===================>]  82.23K   147KB/s    in 0.6s    \n",
      "\n",
      "2018-06-09 11:23:23 (147 KB/s) - ‘winequality-red.csv’ saved [84199/84199]\n",
      "\n"
     ]
    }
   ],
   "source": [
    "!wget https://archive.ics.uci.edu/ml/machine-learning-databases/wine-quality/winequality-white.csv\n",
    "!wget https://archive.ics.uci.edu/ml/machine-learning-databases/wine-quality/winequality-red.csv"
   ]
  },
  {
   "cell_type": "code",
   "execution_count": 16,
   "metadata": {
    "collapsed": true
   },
   "outputs": [],
   "source": [
    "import csv\n",
    "import numpy as np"
   ]
  },
  {
   "cell_type": "code",
   "execution_count": 105,
   "metadata": {
    "collapsed": false
   },
   "outputs": [],
   "source": [
    "def read_csv_header(fl, deli):\n",
    "    header = np.genfromtxt(fl, delimiter=deli, dtype=str, max_rows=1, )\n",
    "    data = np.genfromtxt(fl, delimiter=deli, skip_header=True,)\n",
    "    return header, data\n"
   ]
  },
  {
   "cell_type": "code",
   "execution_count": 132,
   "metadata": {
    "collapsed": false
   },
   "outputs": [],
   "source": [
    "header_red, red = read_csv_header(\"winequality-red.csv\", \";\")\n",
    "header_wht, wht = read_csv_header(\"winequality-white.csv\", \";\")"
   ]
  },
  {
   "cell_type": "code",
   "execution_count": 136,
   "metadata": {
    "collapsed": false
   },
   "outputs": [
    {
     "data": {
      "text/plain": [
       "array(['\"fixed acidity\"', '\"volatile acidity\"', '\"citric acid\"',\n",
       "       '\"residual sugar\"', '\"chlorides\"', '\"free sulfur dioxide\"',\n",
       "       '\"total sulfur dioxide\"', '\"density\"', '\"pH\"', '\"sulphates\"',\n",
       "       '\"alcohol\"', '\"quality\"'], \n",
       "      dtype='|S22')"
      ]
     },
     "execution_count": 136,
     "metadata": {},
     "output_type": "execute_result"
    }
   ],
   "source": [
    "header_red"
   ]
  },
  {
   "cell_type": "code",
   "execution_count": 141,
   "metadata": {
    "collapsed": false
   },
   "outputs": [
    {
     "data": {
      "text/plain": [
       "array([[  7.4  ,   0.7  ,   0.   , ...,   0.56 ,   9.4  ,   5.   ],\n",
       "       [  7.8  ,   0.88 ,   0.   , ...,   0.68 ,   9.8  ,   5.   ],\n",
       "       [  7.8  ,   0.76 ,   0.04 , ...,   0.65 ,   9.8  ,   5.   ],\n",
       "       ..., \n",
       "       [  6.3  ,   0.51 ,   0.13 , ...,   0.75 ,  11.   ,   6.   ],\n",
       "       [  5.9  ,   0.645,   0.12 , ...,   0.71 ,  10.2  ,   5.   ],\n",
       "       [  6.   ,   0.31 ,   0.47 , ...,   0.66 ,  11.   ,   6.   ]])"
      ]
     },
     "execution_count": 141,
     "metadata": {},
     "output_type": "execute_result"
    }
   ],
   "source": []
  },
  {
   "cell_type": "code",
   "execution_count": 108,
   "metadata": {
    "collapsed": false
   },
   "outputs": [
    {
     "data": {
      "text/plain": [
       "(1599, 12)"
      ]
     },
     "execution_count": 108,
     "metadata": {},
     "output_type": "execute_result"
    }
   ],
   "source": []
  },
  {
   "cell_type": "code",
   "execution_count": null,
   "metadata": {
    "collapsed": false
   },
   "outputs": [],
   "source": []
  },
  {
   "cell_type": "code",
   "execution_count": 140,
   "metadata": {
    "collapsed": false
   },
   "outputs": [],
   "source": [
    "header_red = [x.replace(\"\\\"\", \"\") + ' red' for x in header_red]\n",
    "header_wht = [x.replace(\"\\\"\", \"\") + ' white' for x in header_wht]"
   ]
  },
  {
   "cell_type": "code",
   "execution_count": 123,
   "metadata": {
    "collapsed": false
   },
   "outputs": [
    {
     "data": {
      "text/plain": [
       "numpy.string_"
      ]
     },
     "execution_count": 123,
     "metadata": {},
     "output_type": "execute_result"
    }
   ],
   "source": [
    "type(header_red[0])"
   ]
  },
  {
   "cell_type": "code",
   "execution_count": 124,
   "metadata": {
    "collapsed": true
   },
   "outputs": [],
   "source": [
    "?np.genfromtxt"
   ]
  }
 ],
 "metadata": {
  "kernelspec": {
   "display_name": "Python 2",
   "language": "python",
   "name": "python2"
  },
  "language_info": {
   "codemirror_mode": {
    "name": "ipython",
    "version": 2
   },
   "file_extension": ".py",
   "mimetype": "text/x-python",
   "name": "python",
   "nbconvert_exporter": "python",
   "pygments_lexer": "ipython2",
   "version": "2.7.14"
  }
 },
 "nbformat": 4,
 "nbformat_minor": 2
}
