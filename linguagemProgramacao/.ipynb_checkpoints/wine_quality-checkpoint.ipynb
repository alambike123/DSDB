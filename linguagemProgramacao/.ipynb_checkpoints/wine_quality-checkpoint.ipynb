{
 "cells": [
  {
   "cell_type": "markdown",
   "metadata": {},
   "source": [
    "### Wine quality exercise\n",
    "##### Pedro Martins\n",
    "\n",
    "Download the files winequality-white.csv and winequality-red.csv from the following source\n",
    "\n",
    "* https://archive.ics.uci.edu/ml/machine-learning-databases/wine-quality/winequality-white.csv\n",
    "* https://archive.ics.uci.edu/ml/machine-learning-databases/wine-quality/winequality-red.csv\n",
    "\n",
    "**Given both files write a program that:\n",
    "    - Open and read the files\n",
    "    - Change the delimiter from \";\" (semicolon) to \",\" (colon)\n",
    "    - Add a label to indentify the attributes of red and white wines    \n",
    "    - Create a file with both datasets merged\n",
    "    \n",
    "    - Remember: There should be only one header\n",
    "   \n",
    "**Stats:\n",
    "    - Calculate the average quality of each wine\n",
    "    \n",
    "    \n"
   ]
  },
  {
   "cell_type": "code",
   "execution_count": null,
   "metadata": {
    "collapsed": true
   },
   "outputs": [],
   "source": [
    "import numpy as np"
   ]
  }
 ],
 "metadata": {
  "kernelspec": {
   "display_name": "Python 2",
   "language": "python",
   "name": "python2"
  },
  "language_info": {
   "codemirror_mode": {
    "name": "ipython",
    "version": 2
   },
   "file_extension": ".py",
   "mimetype": "text/x-python",
   "name": "python",
   "nbconvert_exporter": "python",
   "pygments_lexer": "ipython2",
   "version": "2.7.14"
  }
 },
 "nbformat": 4,
 "nbformat_minor": 2
}
